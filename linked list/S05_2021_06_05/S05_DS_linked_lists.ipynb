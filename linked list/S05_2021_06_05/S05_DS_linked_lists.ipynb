{
 "cells": [
  {
   "cell_type": "markdown",
   "metadata": {},
   "source": [
    "# DS - 3(Linked List)\n",
    "<div style=\"text-align: right\"> gaurav gupta (leangaurav)</div>"
   ]
  },
  {
   "cell_type": "markdown",
   "metadata": {},
   "source": [
    "- Linked list vs Array\n",
    "  - space: memory allocation\n",
    "  - time\n",
    "- Circular"
   ]
  },
  {
   "cell_type": "code",
   "execution_count": 3,
   "metadata": {},
   "outputs": [
    {
     "name": "stdout",
     "output_type": "stream",
     "text": [
      "2108614542088\n"
     ]
    }
   ],
   "source": [
    "a = 10\n",
    "a = \"abcd\"\n",
    "a = [\"abcd\", 100, True] # looks like an array in python\n",
    "print(id(a))"
   ]
  },
  {
   "cell_type": "code",
   "execution_count": 4,
   "metadata": {},
   "outputs": [
    {
     "name": "stdout",
     "output_type": "stream",
     "text": [
      "[1, 2, 3, 4, 11, 22, 33, 44]\n"
     ]
    }
   ],
   "source": [
    "a = [1,2,3,4]\n",
    "b = [11,22,33,44]\n",
    "print(a+b)"
   ]
  },
  {
   "cell_type": "code",
   "execution_count": 11,
   "metadata": {},
   "outputs": [],
   "source": [
    "a = []\n",
    "old = None\n",
    "for i in range(100000):\n",
    "    a.append(i)\n",
    "    if old is None:\n",
    "        old = id(a)\n",
    "    if old != id(a):\n",
    "        print(old, id(a))"
   ]
  },
  {
   "cell_type": "markdown",
   "metadata": {},
   "source": [
    "# ll vs array\n",
    "- array: sequential\n",
    "- array: 1 type of data \n",
    "- ll: no restriction on type of data"
   ]
  },
  {
   "cell_type": "markdown",
   "metadata": {},
   "source": [
    "## Unserstanding linked list"
   ]
  },
  {
   "cell_type": "code",
   "execution_count": null,
   "metadata": {},
   "outputs": [],
   "source": [
    "# SLL"
   ]
  },
  {
   "cell_type": "code",
   "execution_count": null,
   "metadata": {},
   "outputs": [],
   "source": []
  },
  {
   "cell_type": "markdown",
   "metadata": {},
   "source": [
    "## PhoneBook using Linkedlist"
   ]
  },
  {
   "cell_type": "raw",
   "metadata": {},
   "source": [
    "- create a phone directory using Linked list\n",
    "- we need to keep `name` and `phone number` for each contact\n",
    "- since phone books are usually sorted by name, hence we need to keep our linked list sorted as well.  \n",
    "- allow operations to : delete, search and add contacts  \n",
    "*keep all names in lower case*"
   ]
  },
  {
   "cell_type": "markdown",
   "metadata": {},
   "source": [
    "- give me the strucure of a single node of the linked list"
   ]
  },
  {
   "cell_type": "code",
   "execution_count": 40,
   "metadata": {},
   "outputs": [
    {
     "name": "stdout",
     "output_type": "stream",
     "text": [
      "False\n",
      "True\n",
      "\n",
      "False\n",
      "True\n",
      "\n",
      "True\n",
      "\n",
      "False\n",
      "<__main__.Node object at 0x000001EAF3534108>\n"
     ]
    }
   ],
   "source": [
    "class Node:\n",
    "    def __init__(self, data, next=None):\n",
    "        self.data = data\n",
    "        self.next = next # fine since next is being  used as a function local variable\n",
    "#    def __str__(self):\n",
    "#        return f\"{id()}:{repr(self.data)} Next: {id(self.next)}\"\n",
    "\n",
    "class Contact:\n",
    "    def __init__(self, name, phone):\n",
    "        self.name = name\n",
    "        self.phone = phone\n",
    "\n",
    "    def __lt__(self, other):\n",
    "        return self.name < other.name\n",
    "        \n",
    "c1 = Contact(\"gaurav\",\"00000\")\n",
    "c2 = Contact(\"deepak\",\"00000\")\n",
    "c3 = Contact(\"gaurav\",\"00000\")\n",
    "print(c1 < c2)\n",
    "print(c1 > c2)\n",
    "print()\n",
    "print(c1 == c3)\n",
    "print(c1.name > c2.name)\n",
    "\n",
    "print()\n",
    "print(\"ab\" < \"ac\")\n",
    "\n",
    "print()\n",
    "print(10 > 20)\n",
    "n = Node(c)\n",
    "print(n)"
   ]
  },
  {
   "cell_type": "code",
   "execution_count": 56,
   "metadata": {},
   "outputs": [
    {
     "name": "stdout",
     "output_type": "stream",
     "text": [
      "2108620849352:B Next: None\n",
      "\n",
      "2108620787976:A Next: 2108620849352\n",
      "2108620849352:B Next: None\n",
      "\n",
      "2108620787976:A Next: 2108620849352\n",
      "2108620849352:B Next: 2108620788552\n",
      "2108620788552:D Next: None\n",
      "\n",
      "2108620787976:A Next: 2108620849352\n",
      "2108620849352:B Next: 2108620788680\n",
      "2108620788680:C Next: 2108620788552\n",
      "2108620788552:D Next: None\n",
      "\n",
      "C\n",
      "None\n",
      "\n",
      "2108620787976:A Next: 2108620849352\n",
      "2108620849352:B Next: 2108620788680\n",
      "2108620788552:D Next: None\n",
      "2108620788680:C Next: None\n",
      "None\n"
     ]
    }
   ],
   "source": [
    "class Node:\n",
    "    def __init__(self, data, next=None):\n",
    "        self.data = data\n",
    "        self.next = next # fine since next is being  used as a function local variable\n",
    "    def __str__(self):\n",
    "        return f\"{id(self)}:{repr(self.data)} Next: {None if self.next is None  else  id(self.next)}\"\n",
    "\n",
    "class Contact:\n",
    "    def __init__(self, name, phone):\n",
    "        self.name = name\n",
    "        self.phone = phone\n",
    "        \n",
    "    def __repr__(self):\n",
    "        return f\"{self.name}\"\n",
    "\n",
    "    def __lt__(self, other):\n",
    "        return self.name < other.name\n",
    "    \n",
    "    def __eq__(self, other):\n",
    "        return self.name  == other.name\n",
    "\n",
    "class SortedSLL:\n",
    "    def __init__(self):\n",
    "        self.head = None\n",
    "        \n",
    "    def add(self, new_data):\n",
    "        if self.head is None:\n",
    "            self.head = Node(new_data, None)\n",
    "            return\n",
    "        \n",
    "        # find location of insertion\n",
    "        p = None\n",
    "        n = self.head\n",
    "        while n is not  None and n.data < new_data:\n",
    "            p = n\n",
    "            n = n.next\n",
    "            \n",
    "        # insert the node\n",
    "        if p is None: # insert in beginning\n",
    "            temp = Node(new_data, self.head)\n",
    "            self.head = temp\n",
    "        else: # insert  in middle or end\n",
    "            temp = Node(new_data, n)\n",
    "            p.next = temp\n",
    "            \n",
    "    def search(self, new_obj, key=lambda x: x):\n",
    "        \"\"\"\n",
    "        returns the node which matches\n",
    "        and None if no matching node is found\n",
    "        \"\"\"\n",
    "        current = self.head\n",
    "        while current != None:\n",
    "            if key(current.data) == key(new_obj):\n",
    "                return current.data # data found\n",
    "            current = current.next\n",
    "        return None\n",
    "    \n",
    "    def delete(self, data):\n",
    "        \"\"\"\n",
    "        if self.head is None:  \n",
    "            return None\n",
    "        if self.head.next is None:\n",
    "            temp = self.head\n",
    "            self.head = None\n",
    "            return temp\n",
    "        \"\"\"\n",
    "        prev = None\n",
    "        n = self.head\n",
    "        while n is not None and n.data != data:\n",
    "            prev = n\n",
    "            n = n.next\n",
    "        if n is None:\n",
    "            return None\n",
    "        elif prev is None:\n",
    "            head = n.next\n",
    "            return n\n",
    "        else:\n",
    "            prev.next = n.next\n",
    "            return n\n",
    "\n",
    "    def print(self):\n",
    "        temp = self.head\n",
    "\n",
    "        if temp is None:\n",
    "            print(\"Empty list\")\n",
    "        while temp is not None:\n",
    "            print(temp)\n",
    "            temp = temp.next\n",
    "            \n",
    "s =  SortedSLL()\n",
    "s.add(Contact(\"B\", 10)) # insert inside empty list\n",
    "s.print()\n",
    "\n",
    "print()\n",
    "s.add(Contact(\"A\", 11)) # insert in beginning\n",
    "s.print()\n",
    "\n",
    "print()\n",
    "s.add(Contact(\"D\", 12)) # insert  at  end\n",
    "s.print()\n",
    "\n",
    "print()\n",
    "s.add(Contact(\"C\", 13)) # insert in middle\n",
    "s.print()\n",
    "\n",
    "print()\n",
    "print(s.search(Contact(\"A\", 13), key = lambda x: x.phone))\n",
    "print(s.search(Contact(\"E\", 1)))\n",
    "\n",
    "print()\n",
    "print(s.delete(Contact(\"A\", 13)))\n",
    "print(s.delete(Contact(\"B\",13)))\n",
    "print(s.delete(Contact(\"D\",13)))\n",
    "print(s.delete(Contact(\"C\",13)))\n",
    "print(s.delete(Contact(\"D\",13)))"
   ]
  },
  {
   "cell_type": "code",
   "execution_count": 73,
   "metadata": {},
   "outputs": [
    {
     "name": "stdout",
     "output_type": "stream",
     "text": [
      "2108620877320:5 Next: 2108620679560\n",
      "2108620679560:10 Next: 2108620877320\n",
      "\n",
      "2108620877320:5 Next: 2108620679560\n",
      "2108620679560:10 Next: 2108620680584\n",
      "2108620680584:20 Next: 2108620877320\n",
      "\n",
      "2108620696584:1 Next: 2108620877320\n",
      "2108620877320:5 Next: 2108620679560\n",
      "2108620679560:10 Next: 2108620680584\n",
      "2108620680584:20 Next: 2108620696584\n"
     ]
    }
   ],
   "source": [
    "class Node:\n",
    "    def __init__(self, data, next=None):\n",
    "        self.data = data\n",
    "        self.next = next # fine since next is being  used as a function local variable\n",
    "    def __str__(self):\n",
    "        return f\"{id(self)}:{repr(self.data)} Next: {None if self.next is None  else  id(self.next)}\"\n",
    "\n",
    "class CircularSLL:\n",
    "    def __init__(self):\n",
    "        self.head = None\n",
    "        self.tail = None\n",
    "        \n",
    "    def insert_front(self, data): # => O(1)\n",
    "        n = Node(data)\n",
    "        \n",
    "        if self.tail is None:\n",
    "            self.tail = self.head = n\n",
    "            n.next = n\n",
    "        else:\n",
    "            n.next = self.head\n",
    "            self.head = n\n",
    "            self.tail.next = n\n",
    "\n",
    "    def insert_back(self, data):\n",
    "        n = Node(data)\n",
    "        if self.head is None:\n",
    "            self.head = self.tail = n\n",
    "            n.next = n\n",
    "        else:\n",
    "            self.tail.next = n\n",
    "            n.next = self.head\n",
    "            self.tail = n\n",
    "\n",
    "    def print(self):\n",
    "        temp = self.head\n",
    "        \n",
    "        if temp is None:\n",
    "            print(\"empty\")\n",
    "\n",
    "        while True:\n",
    "            print(temp)\n",
    "            temp = temp.next\n",
    "            if temp == self.head:\n",
    "                break\n",
    "\n",
    "c = CircularSLL()\n",
    "c.insert_front(10)\n",
    "c.insert_front(5)\n",
    "c.print()\n",
    "\n",
    "print()\n",
    "c.insert_back(20)\n",
    "c.print()\n",
    "\n",
    "print()\n",
    "c.insert_front(1)\n",
    "c.print()"
   ]
  },
  {
   "cell_type": "code",
   "execution_count": null,
   "metadata": {},
   "outputs": [],
   "source": [
    "# time  \n",
    "# space"
   ]
  },
  {
   "cell_type": "code",
   "execution_count": null,
   "metadata": {},
   "outputs": [],
   "source": [
    "# [10,20,30,40,50]\n",
    " #  0  1  2  3  4\n",
    "\n",
    "a[3] => O(1)\n",
    "    \n",
    "a = [] # a list\n",
    "\n",
    "data = 100\n",
    "for v in a:\n",
    "    if v == data\n",
    "        print(\"found\")\n",
    "        \n",
    "# input size => n\n",
    "# O(n)\n",
    "\n",
    "cpu 2gh\n",
    "cpu 4gh"
   ]
  },
  {
   "cell_type": "code",
   "execution_count": 75,
   "metadata": {},
   "outputs": [
    {
     "data": {
      "text/plain": [
       "16"
      ]
     },
     "execution_count": 75,
     "metadata": {},
     "output_type": "execute_result"
    }
   ],
   "source": [
    "2**4\n"
   ]
  },
  {
   "cell_type": "code",
   "execution_count": 80,
   "metadata": {},
   "outputs": [
    {
     "name": "stdout",
     "output_type": "stream",
     "text": [
      "4.0\n",
      "10.0\n"
     ]
    }
   ],
   "source": [
    "import math\n",
    "print(math.log(16,2)) # base 2b\n",
    "print(math.log(1024,2)) # base 2"
   ]
  },
  {
   "cell_type": "code",
   "execution_count": null,
   "metadata": {},
   "outputs": [],
   "source": [
    "# building with 10 , eggs which you drop from the different floors\n",
    "# "
   ]
  }
 ],
 "metadata": {
  "kernelspec": {
   "display_name": "Python 3",
   "language": "python",
   "name": "python3"
  },
  "language_info": {
   "codemirror_mode": {
    "name": "ipython",
    "version": 3
   },
   "file_extension": ".py",
   "mimetype": "text/x-python",
   "name": "python",
   "nbconvert_exporter": "python",
   "pygments_lexer": "ipython3",
   "version": "3.8.5"
  }
 },
 "nbformat": 4,
 "nbformat_minor": 2
}
