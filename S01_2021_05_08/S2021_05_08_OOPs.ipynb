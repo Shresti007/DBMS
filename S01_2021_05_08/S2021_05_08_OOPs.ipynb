{
 "cells": [
  {
   "cell_type": "markdown",
   "metadata": {},
   "source": [
    "# Classes and Objects(OOP) - 1\n",
    "https://pad.ouvaton.coop/gl_gaurav_8842\n",
    "<div style=\"text-align: right\"> gaurav gupta </div>"
   ]
  },
  {
   "cell_type": "code",
   "execution_count": null,
   "metadata": {},
   "outputs": [],
   "source": [
    "Could you please let us know the importance of classifying the (OOPS Vendor Management Boilerplate code) \n",
    "project into different folders like Abstraction, Implementations, Models and Driver.py and init.py files.\n",
    "I could not find a correct resource online that helps me understand this concept.\n",
    "\n",
    "Requesting you to explain the importance of this concept & it's implementation."
   ]
  },
  {
   "cell_type": "code",
   "execution_count": 1,
   "metadata": {},
   "outputs": [
    {
     "name": "stdout",
     "output_type": "stream",
     "text": [
      "<class 'list'>\n",
      "[]\n",
      "[]\n"
     ]
    }
   ],
   "source": [
    "print(list)\n",
    "print(list())\n",
    "print([])"
   ]
  },
  {
   "cell_type": "code",
   "execution_count": null,
   "metadata": {},
   "outputs": [],
   "source": [
    "a = [1,2] # object of class list\n",
    "b = (1,2) # object  of  class tuple"
   ]
  },
  {
   "cell_type": "code",
   "execution_count": null,
   "metadata": {},
   "outputs": [],
   "source": [
    "- data: attributes\n",
    "- behavior: methods : functions"
   ]
  },
  {
   "cell_type": "code",
   "execution_count": null,
   "metadata": {},
   "outputs": [],
   "source": [
    "# \n",
    "s = \"\"\n",
    "i = 20\n",
    "s - \"abc\"\n",
    "i - 10"
   ]
  },
  {
   "cell_type": "markdown",
   "metadata": {},
   "source": [
    "### Something About\n",
    "- Instance Attribute\n",
    "- Class attributes"
   ]
  },
  {
   "cell_type": "code",
   "execution_count": 4,
   "metadata": {},
   "outputs": [
    {
     "name": "stdout",
     "output_type": "stream",
     "text": [
      "Class Vars 10 10\n",
      "Instance Vars 100 200\n",
      "Instance Vars 1000 200\n",
      "{'bar': 1000}\n",
      "Class Vars 20 10\n",
      "{'bar': 1000, 'foo': 20}\n",
      "10\n"
     ]
    }
   ],
   "source": [
    "# find  output\n",
    "class Test:\n",
    "    foo = 10 # class attribute\n",
    "    \n",
    "    def __init__(self, bar):\n",
    "        self.bar = bar # instance attribute\n",
    "    \n",
    "t1 = Test(100)\n",
    "t2 = Test(200)\n",
    "\n",
    "print(\"Class Vars\", t1.foo, t2.foo)\n",
    "print(\"Instance Vars\", t1.bar, t2.bar)\n",
    "\n",
    "t1.bar = 1000\n",
    "print(\"Instance Vars\", t1.bar, t2.bar)\n",
    "\n",
    "print(t1.__dict__)\n",
    "t1.foo = 20\n",
    "print(\"Class Vars\", t1.foo, t2.foo)\n",
    "\n",
    "print(t1.__dict__)\n",
    "\n",
    "print(Test.foo)"
   ]
  },
  {
   "cell_type": "code",
   "execution_count": 5,
   "metadata": {},
   "outputs": [],
   "source": [
    "# OOPS  DIY 1:what's wrong with this code ?\n",
    "# fix it\n",
    "\n",
    "## __x : more strict private\n",
    "#  _x  : conventionally private\n",
    "\n",
    "class Test:\n",
    "    foo = 10\n",
    "\n",
    "    def __init__(self, bar):\n",
    "        self.bar = bar\n",
    "\n",
    "    def set_foo(self, foo):\n",
    "        self.foo = foo\n",
    "    \n",
    "    def set_bar(self, bar):\n",
    "        self.foo = bar\n",
    "        \n",
    "t1 = Test(100)\n",
    "t2 = Test(200)\n",
    "\n",
    "t1.set_foo(1000)\n",
    "t1.set_bar(20)"
   ]
  },
  {
   "cell_type": "markdown",
   "metadata": {},
   "source": [
    "## about magic methods\n",
    "```\n",
    "__str__(self)\n",
    "__add__(self, other)\n",
    "__mul__(self, other)\n",
    "```"
   ]
  },
  {
   "cell_type": "code",
   "execution_count": null,
   "metadata": {},
   "outputs": [],
   "source": []
  },
  {
   "cell_type": "code",
   "execution_count": null,
   "metadata": {},
   "outputs": [],
   "source": []
  },
  {
   "cell_type": "markdown",
   "metadata": {},
   "source": [
    "# Customers, Sellers and Products"
   ]
  },
  {
   "cell_type": "markdown",
   "metadata": {},
   "source": [
    "## Create a customer class\n",
    "- attributes: \n",
    " - c_id: integer\n",
    " - name: string\n",
    "- methods:\n",
    " - `__str__`: prints Customer objects like `ID: 1 Name: Gaurav`"
   ]
  },
  {
   "cell_type": "code",
   "execution_count": 11,
   "metadata": {},
   "outputs": [
    {
     "name": "stdout",
     "output_type": "stream",
     "text": [
      "ID: 1 Name: gaurav\n",
      "{1: 'abcd'}\n"
     ]
    }
   ],
   "source": [
    "class Customer:\n",
    "    def __init__(self, c_id, name):\n",
    "        self.c_id = c_id\n",
    "        self.name = name\n",
    "        \n",
    "    def __str__(self):\n",
    "        return f\"ID: {self.c_id} Name: {self.name}\"\n",
    "        \n",
    "c1 = Customer(1,\"gaurav\")\n",
    "print(c1)\n",
    "\n",
    "d = {1:\"abcd\"}\n",
    "print(d)"
   ]
  },
  {
   "cell_type": "code",
   "execution_count": null,
   "metadata": {},
   "outputs": [],
   "source": []
  },
  {
   "cell_type": "markdown",
   "metadata": {},
   "source": [
    "### creating a Datastore to act as an in-memory DB for our customers\n",
    "create a class DataStore:\n",
    "- attributes\n",
    " - __customers: dict: class attribute containing mapping of `C_id vs customer objects`\n",
    "- methods:\n",
    " - add_customer(Customer): adds a new custome to dictionary\n",
    " - get_customer(c_id: int): return a customer by ID\n",
    " - del_customer(c_id: int): delete a customer by ID\n",
    " - get_customers(): returns an iterable/sequence over all currently available customers \n",
    " \n",
    "What gets printed when you call get_customers().. after  converting to  list/tuple etc."
   ]
  },
  {
   "cell_type": "code",
   "execution_count": 30,
   "metadata": {},
   "outputs": [
    {
     "name": "stdout",
     "output_type": "stream",
     "text": [
      "dict_values([ID: 1])\n",
      "dict_values([ID: 1, ID: 2])\n",
      "dict_values([ID: 1, ID: 2, ID: 3])\n"
     ]
    }
   ],
   "source": [
    "# name mangling\n",
    "\n",
    "class Customer:\n",
    "    def __init__(self, c_id, name):\n",
    "        self.c_id = c_id\n",
    "        self.name = name\n",
    "        \n",
    "    def __str__(self):\n",
    "        return f\"ID: {self.c_id} Name: {self.name}\"\n",
    "\n",
    "    def __repr__(self):\n",
    "        return f\"ID: {self.c_id}\"\n",
    "\n",
    "class Datastore:\n",
    "    __customers = {} # {c_id: Customer Object}# pseudo.. private  behavior : C++, JAVA\n",
    "    __c_id = 0\n",
    "    \n",
    "    def add_customer(self, c):\n",
    "        self.__c_id += 1\n",
    "        c.c_id = self.__c_id\n",
    "        self.__customers[c.c_id] = c\n",
    "\n",
    "    def get_customer(self, c_id):\n",
    "        return self.__customers.get(c_id, None)\n",
    "    \n",
    "    def del_customer(self, c_id):\n",
    "        return self.__customers.pop(c_id, None) is not None\n",
    "    \n",
    "    def get_customers(self):\n",
    "        return self.__customers.values()\n",
    "\n",
    "\n",
    "d = Datastore()\n",
    "d.add_customer(Customer(1, \"Gaurav\"))\n",
    "print(d.get_customers())\n",
    "d.add_customer(Customer(1, \"Gaurav2\"))\n",
    "print(d.get_customers())\n",
    "d.add_customer(Customer(1, \"Gaurav3\"))\n",
    "print(d.get_customers())"
   ]
  },
  {
   "cell_type": "code",
   "execution_count": 20,
   "metadata": {},
   "outputs": [
    {
     "name": "stdout",
     "output_type": "stream",
     "text": [
      "False\n",
      "True\n",
      "False\n",
      "True\n",
      "False\n"
     ]
    }
   ],
   "source": [
    "print(1 is None)\n",
    "\n",
    "a = None\n",
    "print(a is None)\n",
    "a = 0\n",
    "print(a is None)\n",
    "\n",
    "a = None\n",
    "print(a == None)\n",
    "a = 0\n",
    "print(a == None)"
   ]
  },
  {
   "cell_type": "markdown",
   "metadata": {},
   "source": [
    "### DIY2: knowing when we created the customer's account ?\n",
    "- add an attribute created_at. The default value of created_at in the constructor should be current datetime\n",
    "- remember to update the `__str__` method"
   ]
  },
  {
   "cell_type": "code",
   "execution_count": null,
   "metadata": {},
   "outputs": [],
   "source": []
  },
  {
   "cell_type": "code",
   "execution_count": null,
   "metadata": {},
   "outputs": [],
   "source": []
  },
  {
   "cell_type": "markdown",
   "metadata": {},
   "source": [
    "## Seller class\n",
    "- attributes: \n",
    " - s_id: integer\n",
    " - name: string\n",
    "- methods:\n",
    " - `__str__`: prints Seller objects like `ID: 1 Name: Gaurav`\n",
    " - `__repr__`: prints Seller objects like `Seller: 1`"
   ]
  },
  {
   "cell_type": "code",
   "execution_count": 17,
   "metadata": {},
   "outputs": [
    {
     "name": "stdout",
     "output_type": "stream",
     "text": [
      "ID: 1 Name: gaurav\n",
      "ID: 1 Name: gaurav\n",
      "[ID: 1]\n"
     ]
    }
   ],
   "source": [
    "class Seller:\n",
    "    def __init__(self, s_id, name):\n",
    "        self.s_id = s_id\n",
    "        self.name = name\n",
    "        \n",
    "    def __str__(self):\n",
    "        return f\"ID: {self.s_id} Name: {self.name}\"\n",
    "\n",
    "    def __repr__(self):\n",
    "        return f\"ID: {self.s_id}\"\n",
    "        \n",
    "c1 = Seller(1,\"gaurav\")\n",
    "print(c1)\n",
    "        \n",
    "c1 = Seller(1,\"gaurav\")\n",
    "print(c1)\n",
    "a = [c1]\n",
    "print(a)"
   ]
  },
  {
   "cell_type": "code",
   "execution_count": null,
   "metadata": {},
   "outputs": [],
   "source": []
  },
  {
   "cell_type": "markdown",
   "metadata": {},
   "source": [
    "### Sellers join our datastore\n",
    "- create a separate dict  for storing sellers\n",
    "- add the 4 methods add_seller, etc. just like for customers "
   ]
  },
  {
   "cell_type": "code",
   "execution_count": 33,
   "metadata": {},
   "outputs": [
    {
     "name": "stdout",
     "output_type": "stream",
     "text": [
      "dict_values([ID: 1])\n",
      "dict_values([ID: 1, ID: 2])\n",
      "dict_values([ID: 1, ID: 2, ID: 3])\n",
      "dict_values([ID: 1])\n",
      "dict_values([ID: 1, ID: 2])\n",
      "True\n",
      "False\n",
      "dict_values([ID: 2])\n"
     ]
    }
   ],
   "source": [
    "# name mangling\n",
    "class Seller:\n",
    "    def __init__(self, s_id, name):\n",
    "        self.s_id = s_id\n",
    "        self.name = name\n",
    "        \n",
    "    def __str__(self):\n",
    "        return f\"ID: {self.s_id} Name: {self.name}\"\n",
    "\n",
    "    def __repr__(self):\n",
    "        return f\"ID: {self.s_id}\"\n",
    "\n",
    "class Customer:\n",
    "    def __init__(self, c_id, name):\n",
    "        self.c_id = c_id\n",
    "        self.name = name\n",
    "        \n",
    "    def __str__(self):\n",
    "        return f\"ID: {self.c_id} Name: {self.name}\"\n",
    "\n",
    "    def __repr__(self):\n",
    "        return f\"ID: {self.c_id}\"\n",
    "\n",
    "class Datastore:\n",
    "    __customers = {} # {c_id: Customer Object}# pseudo.. private  behavior : C++, JAVA\n",
    "    __c_id = 0\n",
    "    __sellers =  {} # <s_id: Seller Object>\n",
    "    __s_id = 0\n",
    "    \n",
    "    def add_customer(self, c):\n",
    "        self.__c_id += 1\n",
    "        c.c_id = self.__c_id\n",
    "        self.__customers[c.c_id] = c\n",
    "\n",
    "    def get_customer(self, c_id):\n",
    "        return self.__customers.get(c_id, None)\n",
    "    \n",
    "    def del_customer(self, c_id):\n",
    "        return self.__customers.pop(c_id, None) is not None\n",
    "    \n",
    "    def get_customers(self):\n",
    "        return self.__customers.values()\n",
    "    \n",
    "    \n",
    "    def add_seller(self, c):\n",
    "        self.__s_id += 1\n",
    "        c.s_id = self.__s_id\n",
    "        self.__sellers[c.s_id] = c\n",
    "\n",
    "    def get_seller(self, s_id):\n",
    "        return self.__sellers.get(s_id, None)\n",
    "    \n",
    "    def del_seller(self, c_id):\n",
    "        return self.__sellers.pop(c_id, None) is not None\n",
    "    \n",
    "    def get_sellers(self):\n",
    "        return self.__sellers.values()\n",
    "\n",
    "d = Datastore()\n",
    "d.add_customer(Customer(1, \"Gaurav\"))\n",
    "print(d.get_customers())\n",
    "d.add_customer(Customer(1, \"Gaurav2\"))\n",
    "print(d.get_customers())\n",
    "d.add_customer(Customer(1, \"Gaurav3\"))\n",
    "print(d.get_customers())\n",
    "\n",
    "\n",
    "d = Datastore()\n",
    "d.add_seller(Seller(1, \"Gaurav\"))\n",
    "print(d.get_sellers())\n",
    "d.add_seller(Seller(1, \"Gaurav2\"))\n",
    "print(d.get_sellers())\n",
    "print(d.del_seller(1))\n",
    "print(d.del_seller(1))\n",
    "print(d.get_sellers())"
   ]
  },
  {
   "cell_type": "code",
   "execution_count": null,
   "metadata": {},
   "outputs": [],
   "source": []
  },
  {
   "cell_type": "markdown",
   "metadata": {},
   "source": [
    "## Lets add some Products\n",
    "- attributes:\n",
    " - p_id: integer\n",
    " - name: string\n",
    " - category: string\n",
    " - price: int\n",
    " - quantity: int\n",
    "- methods:\n",
    " - `__str__`"
   ]
  },
  {
   "cell_type": "code",
   "execution_count": 36,
   "metadata": {},
   "outputs": [
    {
     "name": "stdout",
     "output_type": "stream",
     "text": [
      "p_id = 1 name = Oranges category = Fruits price = 10000 quantity = 10\n"
     ]
    }
   ],
   "source": [
    "class Product:\n",
    "\n",
    "    def __init__(self, p_id, name, category, price, quantity):\n",
    "        self.p_id = p_id\n",
    "        self.name = name\n",
    "        self.category = category\n",
    "        self.price = price\n",
    "        self.quantity = quantity\n",
    "\n",
    "    def __str__(self):\n",
    "        return f\"p_id = {self.p_id} name = {self.name} category = {self.category} price = {self.price} quantity = {self.quantity}\"\n",
    "\n",
    "p = Product(1, \"Oranges\", \"Fruits\", 10000, 10)\n",
    "print(p)\n",
    "p = Product(1, \"Grapes\", \"Grapes\", 10000, 10)"
   ]
  },
  {
   "cell_type": "code",
   "execution_count": null,
   "metadata": {},
   "outputs": [],
   "source": []
  },
  {
   "cell_type": "markdown",
   "metadata": {},
   "source": [
    "#### add products to datastore.. but wait..who sells these products ?\n",
    "- add a dictionary to store a mapping of product id vs product details just like customers and sellers\n",
    "- another mapping of just sellerID vs list of productIDs"
   ]
  },
  {
   "cell_type": "code",
   "execution_count": 44,
   "metadata": {},
   "outputs": [
    {
     "name": "stdout",
     "output_type": "stream",
     "text": [
      "dict_values([ID: 1, ID: 2, ID: 3])\n",
      "True\n",
      "True\n",
      "[1]\n"
     ]
    }
   ],
   "source": [
    "class Seller:\n",
    "    def __init__(self, s_id, name):\n",
    "        self.s_id = s_id\n",
    "        self.name = name\n",
    "        \n",
    "    def __str__(self):\n",
    "        return f\"ID: {self.s_id} Name: {self.name}\"\n",
    "\n",
    "    def __repr__(self):\n",
    "        return f\"ID: {self.s_id}\"\n",
    "\n",
    "\n",
    "class Product:\n",
    "\n",
    "    def __init__(self, p_id, name, category, price, quantity):\n",
    "        self.p_id = p_id\n",
    "        self.name = name\n",
    "        self.category = category\n",
    "        self.price = price\n",
    "        self.quantity = quantity\n",
    "\n",
    "    def __str__(self):\n",
    "        return f\"p_id = {self.p_id} name = {self.name} category = {self.category} price = {self.price} quantity = {self.quantity}\"\n",
    "\n",
    "\n",
    "class Customer:\n",
    "    def __init__(self, c_id, name):\n",
    "        self.c_id = c_id\n",
    "        self.name = name\n",
    "        \n",
    "    def __str__(self):\n",
    "        return f\"ID: {self.c_id} Name: {self.name}\"\n",
    "\n",
    "    def __repr__(self):\n",
    "        return f\"ID: {self.c_id}\"\n",
    "\n",
    "\n",
    "class Datastore:\n",
    "    __customers = {} # {c_id: Customer Object}# pseudo.. private  behavior : C++, JAVA\n",
    "    __c_id = 0\n",
    "    __sellers =  {} # <s_id: Seller Object>\n",
    "    __s_id = 0\n",
    "    __products = {}\n",
    "    __seller_product = {}\n",
    "    \n",
    "    def add_product(self, s_id, p):\n",
    "        if s_id in self.__sellers:\n",
    "            \n",
    "            temp  = self.__seller_product.get(s_id, [])\n",
    "            temp.append(p.p_id)\n",
    "            self.__seller_product[s_id] = temp\n",
    "            \n",
    "            self.__products[p.p_id] = p\n",
    "            return True\n",
    "        else:\n",
    "            return False\n",
    "\n",
    "    def get_product(self, c_id):\n",
    "        return self.__products.get(c_id, None)\n",
    "    \n",
    "    def del_product(self, c_id):\n",
    "        return self.__products.pop(c_id, None) is not None\n",
    "    \n",
    "    def get_products(self):\n",
    "        return self.__products.values()\n",
    "    \n",
    "    def get_products_for_seller(self, s_id):\n",
    "        return self.__seller_product[s_id]\n",
    "    \n",
    "    def add_customer(self, c):\n",
    "        self.__c_id += 1\n",
    "        c.c_id = self.__c_id\n",
    "        self.__customers[c.c_id] = c\n",
    "\n",
    "    def get_customer(self, c_id):\n",
    "        return self.__customers.get(c_id, None)\n",
    "    \n",
    "    def del_customer(self, c_id):\n",
    "        return self.__customers.pop(c_id, None) is not None\n",
    "    \n",
    "    def get_customers(self):\n",
    "        return self.__customers.values()\n",
    "    \n",
    "    def add_seller(self, c):\n",
    "        self.__s_id += 1\n",
    "        c.s_id = self.__s_id\n",
    "        self.__sellers[c.s_id] = c\n",
    "\n",
    "    def get_seller(self, s_id):\n",
    "        return self.__sellers.get(s_id, None)\n",
    "    \n",
    "    def del_seller(self, c_id):\n",
    "        return self.__sellers.pop(c_id, None) is not None\n",
    "    \n",
    "    def get_sellers(self):\n",
    "        return self.__sellers.values()\n",
    "\n",
    "d = Datastore()\n",
    "d.add_seller(Seller(1, \"Gaurav\"))\n",
    "d.add_seller(Seller(2, \"Varun\"))\n",
    "d.add_seller(Seller(3, \"Jhansi\"))\n",
    "print(d.get_sellers())\n",
    "\n",
    "print(d.add_product(1, Product(1, \"Oranges\", \"Fruits\", 10000, 10)))\n",
    "print(d.add_product(2, Product(2, \"Grapes\", \"Fruits\", 10000, 10)))\n",
    "\n",
    "print(d.get_products_for_seller(1))"
   ]
  },
  {
   "cell_type": "markdown",
   "metadata": {},
   "source": [
    "### DIY3: Point class"
   ]
  },
  {
   "cell_type": "code",
   "execution_count": 37,
   "metadata": {},
   "outputs": [
    {
     "ename": "SyntaxError",
     "evalue": "unexpected EOF while parsing (<ipython-input-37-01f25aefe45b>, line 18)",
     "output_type": "error",
     "traceback": [
      "\u001b[1;36m  File \u001b[1;32m\"<ipython-input-37-01f25aefe45b>\"\u001b[1;36m, line \u001b[1;32m18\u001b[0m\n\u001b[1;33m    \u001b[0m\n\u001b[1;37m    ^\u001b[0m\n\u001b[1;31mSyntaxError\u001b[0m\u001b[1;31m:\u001b[0m unexpected EOF while parsing\n"
     ]
    }
   ],
   "source": [
    "class Point:\n",
    "    def __init__(self, x=0, y=0):\n",
    "        self.x = x\n",
    "        self.y = y\n",
    "        \n",
    "    def __str__(self):\n",
    "        return f\"({self.x}, {self.y})\"\n",
    "\n",
    "    \n",
    "# define a method \"distance()\" to find distance between two points\n",
    "# example calls would look like:\n",
    "#   p1,  p2  =  Point(1,2), Point(2,3)\n",
    "#   p1.distance(p2)\n",
    "\n",
    "\n",
    "class Line:\n",
    "    \"\"\"\n",
    "    Line is a class which denotes a line connected by two points\n",
    "    Points are objects of  point class\n",
    "    \"\"\"\n",
    "    def __init__(self, p1, p2):\n",
    "        self.p1 = p1\n",
    "        self.p2 = p2\n",
    "        \n",
    "# define a way to  find  the lenght of line  (i.e. distance between the points that make the line)\n",
    "# calls would look like\n",
    "#  a = Line(Point(1,2), Point(2,3))\n",
    "#  print(len(a)) # this should print the length of line 'a'\n",
    "        \n"
   ]
  },
  {
   "cell_type": "markdown",
   "metadata": {},
   "source": [
    "## DIY4:\n",
    "\n",
    "### Update seller class to have:\n",
    "- created_at attribute similar to the Customer class\n",
    "- allow datastore to generate a unique ID while add `adding` methoddany new Seller like the customer class.\n",
    "- add `__repr__` method prints Seller objects like Seller: 1\n",
    "\n",
    "### Buying products\n",
    "- think how you would a method like purchase work. The method should allow the customer to purchase a product\n",
    " - i.e reduce the available quantity of a product\n",
    " - how would you store the info about the customer's orders\n"
   ]
  }
 ],
 "metadata": {
  "kernelspec": {
   "display_name": "Python 3",
   "language": "python",
   "name": "python3"
  },
  "language_info": {
   "codemirror_mode": {
    "name": "ipython",
    "version": 3
   },
   "file_extension": ".py",
   "mimetype": "text/x-python",
   "name": "python",
   "nbconvert_exporter": "python",
   "pygments_lexer": "ipython3",
   "version": "3.7.4"
  }
 },
 "nbformat": 4,
 "nbformat_minor": 2
}
